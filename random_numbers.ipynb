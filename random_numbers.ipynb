{
 "cells": [
  {
   "cell_type": "code",
   "execution_count": 1,
   "id": "30ad2e0d",
   "metadata": {},
   "outputs": [],
   "source": [
    "# Import the random module.\n",
    "import random"
   ]
  },
  {
   "cell_type": "code",
   "execution_count": 2,
   "id": "e3b73347",
   "metadata": {},
   "outputs": [
    {
     "data": {
      "text/plain": [
       "47"
      ]
     },
     "execution_count": 2,
     "metadata": {},
     "output_type": "execute_result"
    }
   ],
   "source": [
    "random.randint(-90, 90)"
   ]
  },
  {
   "cell_type": "code",
   "execution_count": 3,
   "id": "1d69ba20",
   "metadata": {},
   "outputs": [],
   "source": [
    "x = 1\n",
    "latitudes = []\n",
    "while x < 11:\n",
    "    random_lat = random.randint(-90, 89) + random.random()\n",
    "    latitudes.append(random_lat)\n",
    "    x += 1"
   ]
  },
  {
   "cell_type": "code",
   "execution_count": 4,
   "id": "c4db3f31",
   "metadata": {},
   "outputs": [
    {
     "data": {
      "text/plain": [
       "[3.3063189156403094,\n",
       " 74.13531864585104,\n",
       " 78.1148149429732,\n",
       " -19.8125946695652,\n",
       " 25.346595387581935,\n",
       " -48.95760576940765,\n",
       " 55.972082343880814,\n",
       " 5.334760626208036,\n",
       " -57.51989807011811,\n",
       " 69.67204063711046]"
      ]
     },
     "execution_count": 4,
     "metadata": {},
     "output_type": "execute_result"
    }
   ],
   "source": [
    "latitudes"
   ]
  },
  {
   "cell_type": "code",
   "execution_count": 5,
   "id": "bbde19ac",
   "metadata": {},
   "outputs": [],
   "source": [
    "# Import the NumPy module.\n",
    "import numpy as np"
   ]
  },
  {
   "cell_type": "code",
   "execution_count": 6,
   "id": "8f9a2fc4",
   "metadata": {},
   "outputs": [
    {
     "data": {
      "text/plain": [
       "86.9816980644757"
      ]
     },
     "execution_count": 6,
     "metadata": {},
     "output_type": "execute_result"
    }
   ],
   "source": [
    "np.random.uniform(-90.000, 90.000)"
   ]
  },
  {
   "cell_type": "code",
   "execution_count": 7,
   "id": "be358c7a",
   "metadata": {},
   "outputs": [
    {
     "data": {
      "text/plain": [
       "-29.150378903738044"
      ]
     },
     "execution_count": 7,
     "metadata": {},
     "output_type": "execute_result"
    }
   ],
   "source": [
    "np.random.uniform(low=-90, high=90)"
   ]
  },
  {
   "cell_type": "code",
   "execution_count": 8,
   "id": "35d4cb87",
   "metadata": {},
   "outputs": [
    {
     "data": {
      "text/plain": [
       "array([ 5.12061693e+01, -4.20151454e+01, -2.96493618e+01, -5.74288407e+01,\n",
       "       -5.90219769e+01,  2.07153761e+01,  5.98134240e+01, -8.20902103e+01,\n",
       "        7.81668997e+01,  2.65133001e+01,  7.04467390e+01, -7.81692578e+01,\n",
       "        2.34273558e+01,  1.54547655e+01, -8.81738028e+01,  7.46329404e+01,\n",
       "        2.63591472e+01,  2.74057135e+00, -6.69034826e+01,  4.73340432e+01,\n",
       "        4.90224528e+01,  8.26005124e+01, -1.38930664e+01, -4.67680095e+01,\n",
       "       -1.82896620e+01, -1.97496874e+01, -4.30836238e+01, -1.48123336e+01,\n",
       "        4.10693127e+01, -2.72795236e+01, -3.91807781e+01,  5.14950322e+01,\n",
       "       -4.69394671e+00,  1.17259110e+01,  1.98724615e+01, -8.88395398e+01,\n",
       "       -7.32955069e+01, -7.49846264e+00,  2.61843068e+00,  2.98081799e-02,\n",
       "       -7.93105292e+01, -5.38884968e+00,  7.30034072e+01,  3.50771788e+01,\n",
       "       -8.18015387e+01, -6.96795141e+01, -4.91295454e+01,  5.26643998e+01,\n",
       "       -7.53929938e+01,  7.15573049e+01])"
      ]
     },
     "execution_count": 8,
     "metadata": {},
     "output_type": "execute_result"
    }
   ],
   "source": [
    "np.random.uniform(-90.000, 90.000, size=50)"
   ]
  },
  {
   "cell_type": "code",
   "execution_count": 9,
   "id": "215c1fdf",
   "metadata": {},
   "outputs": [],
   "source": [
    "# Import timeit.\n",
    "import timeit"
   ]
  },
  {
   "cell_type": "code",
   "execution_count": 10,
   "id": "67fd7f0a",
   "metadata": {},
   "outputs": [
    {
     "name": "stdout",
     "output_type": "stream",
     "text": [
      "12.7 µs ± 64.6 ns per loop (mean ± std. dev. of 7 runs, 100,000 loops each)\n"
     ]
    }
   ],
   "source": [
    "%timeit np.random.uniform(-90.000, 90.000, size=1500)"
   ]
  },
  {
   "cell_type": "code",
   "execution_count": 11,
   "id": "01d04b56",
   "metadata": {},
   "outputs": [
    {
     "name": "stdout",
     "output_type": "stream",
     "text": [
      "1.07 ms ± 5.31 µs per loop (mean ± std. dev. of 7 runs, 1,000 loops each)\n"
     ]
    }
   ],
   "source": [
    "def latitudes(size):\n",
    "    latitudes = []\n",
    "    x = 0\n",
    "    while x < (size):\n",
    "        random_lat = random.randint(-90, 90) + random.random()\n",
    "        latitudes.append(random_lat)\n",
    "        x += 1\n",
    "    return latitudes\n",
    "# Call the function with 1500.\n",
    "%timeit latitudes(1500)"
   ]
  },
  {
   "cell_type": "code",
   "execution_count": null,
   "id": "caa40684",
   "metadata": {},
   "outputs": [],
   "source": []
  }
 ],
 "metadata": {
  "kernelspec": {
   "display_name": "Python 3 (ipykernel)",
   "language": "python",
   "name": "python3"
  },
  "language_info": {
   "codemirror_mode": {
    "name": "ipython",
    "version": 3
   },
   "file_extension": ".py",
   "mimetype": "text/x-python",
   "name": "python",
   "nbconvert_exporter": "python",
   "pygments_lexer": "ipython3",
   "version": "3.9.7"
  }
 },
 "nbformat": 4,
 "nbformat_minor": 5
}
